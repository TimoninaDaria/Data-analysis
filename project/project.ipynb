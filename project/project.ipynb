{
 "cells": [
  {
   "cell_type": "markdown",
   "metadata": {},
   "source": [
    "#Итоговый проект"
   ]
  },
  {
   "cell_type": "code",
   "execution_count": 47,
   "metadata": {
    "ExecuteTime": {
     "end_time": "2020-05-27T09:09:41.253791Z",
     "start_time": "2020-05-27T09:09:22.927418Z"
    }
   },
   "outputs": [],
   "source": [
    "import pandas as pd\n",
    "import numpy as np\n",
    "import matplotlib.pyplot as plt\n",
    "from tqdm.notebook import tqdm\n",
    "from os import listdir\n",
    "import codecs\n",
    "import pickle                                                                   \n",
    "from bs4 import BeautifulSoup as BS\n",
    "from sklearn.feature_extraction.text import CountVectorizer\n",
    "from sklearn.feature_extraction.text import TfidfVectorizer\n",
    "from boilerpipe.extract import Extractor\n",
    "from sklearn.cluster import DBSCAN\n",
    "from sklearn.ensemble import IsolationForest\n",
    "from scipy.sparse import hstack\n",
    "from scipy.sparse import vstack\n",
    "from scipy.sparse import hstack\n",
    "from scipy.sparse import vstack\n",
    "from sklearn.preprocessing import StandardScaler\n",
    "from sklearn.metrics.pairwise import pairwise_distances\n",
    "from sklearn.metrics import f1_score\n",
    "from sklearn.linear_model import LogisticRegression\n",
    "from sklearn.tree import DecisionTreeClassifier\n",
    "from sklearn.ensemble import RandomForestClassifier \n",
    "from sklearn.preprocessing import OneHotEncoder\n",
    "from sklearn.model_selection import KFold\n",
    "from sklearn.svm import OneClassSVM\n",
    "from sklearn.ensemble import GradientBoostingClassifier\n",
    "import xgboost\n",
    "from sklearn.neighbors import LocalOutlierFactor\n",
    "from sklearn.decomposition import PCA\n",
    "from sklearn.decomposition import TruncatedSVD\n",
    "from sklearn.manifold import TSNE\n",
    "%matplotlib inline"
   ]
  },
  {
   "cell_type": "code",
   "execution_count": 2,
   "metadata": {
    "ExecuteTime": {
     "end_time": "2020-05-27T09:09:41.272381Z",
     "start_time": "2020-05-27T09:09:41.261931Z"
    }
   },
   "outputs": [],
   "source": [
    "submit = False"
   ]
  },
  {
   "cell_type": "code",
   "execution_count": 3,
   "metadata": {
    "ExecuteTime": {
     "end_time": "2020-05-27T09:09:41.451427Z",
     "start_time": "2020-05-27T09:09:41.278606Z"
    }
   },
   "outputs": [],
   "source": [
    "train_data = pd.read_csv('train_groups.csv',dtype=np.int16)"
   ]
  },
  {
   "cell_type": "code",
   "execution_count": null,
   "metadata": {
    "ExecuteTime": {
     "end_time": "2020-05-27T09:09:41.526000Z",
     "start_time": "2020-05-27T09:09:41.455916Z"
    }
   },
   "outputs": [],
   "source": [
    "#это парсинг теста\n",
    "if submit:\n",
    "    test_data= pd.read_csv('test_groups.csv',dtype=np.int16)\n",
    "\n",
    "    parser_type = 'NumWordsRulesExtractor'\n",
    "    def save_obj(obj, name ):                                                       \n",
    "        with open(name + '.pkl', 'wb') as f:                                        \n",
    "            pickle.dump(obj, f, pickle.HIGHEST_PROTOCOL)                            \n",
    "\n",
    "    def load_obj(name ):                                                            \n",
    "        with open(name + '.pkl', 'rb') as f:                                        \n",
    "            return pickle.load(f)                                                   \n",
    "\n",
    "    path = 'content/'                                                               \n",
    "    texts = {}                                                                      \n",
    "    print('Start: ' + parser_type)                                                  \n",
    "    test_data = pd.read_csv('test_groups.csv',dtype=np.int16)                      \n",
    "    #for filename in ['6770.dat']:                                                  \n",
    "    for filename in tqdm(listdir(path)):                                            \n",
    "        doc_id = int(filename.strip('.dat'))                                        \n",
    "        if doc_id not in test_data.doc_id.values:                                  \n",
    "            continue                                                                \n",
    "        try:                                                                        \n",
    "            with codecs.open(path + filename, 'r', encoding='utf-8', errors='ignore') as f:\n",
    "                url = f.readline().strip()                                          \n",
    "                html = f.read()                                                     \n",
    "                extractor = Extractor(extractor=parser_type, html=html)             \n",
    "                s = extractor.getText()                                             \n",
    "                s=s.replace('\\n',\" \")                                               \n",
    "                s=s.replace('\\t',\" \")                                               \n",
    "                s=s.replace('\\r',\" \")                                               \n",
    "                texts[doc_id] = s                                                   \n",
    "        except UnicodeDecodeError: \n",
    "            print('error {}'.format(filename))                                      \n",
    "            with codecs.open(path + filename, 'r', 'utf-8') as f:                   \n",
    "                url = f.readline().strip()                                          \n",
    "                html = f.read()                                                     \n",
    "            bs = BS(html, 'html.parser')#ищем след страницу                         \n",
    "            for s in bs.select('script'):                                           \n",
    "                s.extract()                                                         \n",
    "            s = bs.get_text()                                                       \n",
    "            s=s.replace('\\n',\"\")                                                    \n",
    "            s=s.replace('\\t',\"\")                                                    \n",
    "            s=s.replace('\\r',\"\")                                                    \n",
    "            texts[doc_id] = s                                                       \n",
    "    test_data['text'] = test_data.apply(lambda row: texts[row.doc_id], axis = 1)  \n"
   ]
  },
  {
   "cell_type": "code",
   "execution_count": 4,
   "metadata": {
    "ExecuteTime": {
     "end_time": "2020-05-27T09:09:41.671151Z",
     "start_time": "2020-05-27T09:09:41.530131Z"
    }
   },
   "outputs": [],
   "source": [
    "def save_obj(obj, name ):                                                       \n",
    "    with open(name + '.pkl', 'wb') as f:                                        \n",
    "        pickle.dump(obj, f, pickle.HIGHEST_PROTOCOL)                            \n",
    "                                                                                \n",
    "def load_obj(name ):                                                            \n",
    "    with open(name + '.pkl', 'rb') as f:                                        \n",
    "        return pickle.load(f)       "
   ]
  },
  {
   "cell_type": "code",
   "execution_count": 5,
   "metadata": {
    "ExecuteTime": {
     "end_time": "2020-05-27T09:10:04.644475Z",
     "start_time": "2020-05-27T09:09:41.694401Z"
    }
   },
   "outputs": [],
   "source": [
    "name = 'NumWordsRulesExtractor'\n",
    "name = 'train_data'+name\n",
    "train_data = load_obj(name)#Загружаем готовый распарсенный текст уже"
   ]
  },
  {
   "cell_type": "code",
   "execution_count": 6,
   "metadata": {
    "ExecuteTime": {
     "end_time": "2020-05-27T09:10:05.064190Z",
     "start_time": "2020-05-27T09:10:04.649179Z"
    }
   },
   "outputs": [
    {
     "name": "stdout",
     "output_type": "stream",
     "text": [
      "11690\n"
     ]
    }
   ],
   "source": [
    "doc_to_title = {}\n",
    "with open('docs_titles.tsv', encoding = 'UTF-8') as f:\n",
    "    for num_line, line in enumerate(f):\n",
    "        if num_line == 0:\n",
    "            continue\n",
    "        data = line.strip().split('\\t', 1)\n",
    "        doc_id = int(data[0])\n",
    "        if len(data) == 1:\n",
    "            title = ''\n",
    "        else:\n",
    "            title = data[1]\n",
    "        doc_to_title[doc_id] = title\n",
    "doc_titles = []\n",
    "for id in train_data.doc_id.values:\n",
    "    doc_titles.append(doc_to_title[id])\n",
    "train_data['title'] = doc_titles\n",
    "if submit:\n",
    "    test_doc_titles = []\n",
    "    for id in test_data.doc_id.values:\n",
    "        test_doc_titles.append(doc_to_title[id])\n",
    "    test_data['title'] = test_doc_titles\n",
    "print(len(doc_titles))\n"
   ]
  },
  {
   "cell_type": "code",
   "execution_count": 7,
   "metadata": {
    "ExecuteTime": {
     "end_time": "2020-05-27T09:21:32.625372Z",
     "start_time": "2020-05-27T09:21:32.616142Z"
    }
   },
   "outputs": [],
   "source": [
    "def get_splits(data, n=3, random_state=None):\n",
    "    groups = train_data.group_id.unique()\n",
    "    kf = KFold(n_splits=n, shuffle=True, random_state=random_state)\n",
    "    for i,j in kf.split(groups):\n",
    "        train, test = data.group_id.isin(groups[i].reshape(-1)), data.group_id.isin(groups[j].reshape(-1))\n",
    "        yield (train[train].index.values, test[test].index.values)"
   ]
  },
  {
   "cell_type": "code",
   "execution_count": 57,
   "metadata": {
    "ExecuteTime": {
     "end_time": "2020-05-27T09:10:05.286068Z",
     "start_time": "2020-05-27T09:10:05.204562Z"
    }
   },
   "outputs": [],
   "source": [
    "#vectorizer = CountVectorizer(ngram_range = (1,3))#max_features = 70)\n",
    "vectorizer = CountVectorizer()"
   ]
  },
  {
   "cell_type": "code",
   "execution_count": 9,
   "metadata": {
    "ExecuteTime": {
     "end_time": "2020-05-27T09:10:25.840660Z",
     "start_time": "2020-05-27T09:10:25.829699Z"
    }
   },
   "outputs": [],
   "source": [
    "all_groups = np.array(list(range(1,310))).reshape(-1,1)\n",
    "i = OneHotEncoder()\n",
    "i.fit(all_groups)\n",
    "groups_one_hot_train = i.transform(train_data.group_id.values.reshape(-1,1))\n",
    "if submit:\n",
    "    groups_one_hot_test   = i.transform(test_data.group_id.values.reshape(-1,1))"
   ]
  },
  {
   "cell_type": "code",
   "execution_count": 58,
   "metadata": {
    "ExecuteTime": {
     "end_time": "2020-05-27T09:11:39.645336Z",
     "start_time": "2020-05-27T09:11:39.630630Z"
    }
   },
   "outputs": [],
   "source": [
    "def get_features(data):\n",
    "    scaler = StandardScaler(with_mean=False)\n",
    "    number = 1\n",
    "    for group in tqdm(data.group_id.unique()):\n",
    "        number +=1\n",
    "        elements_in_same_group = data.group_id == group\n",
    "\n",
    "        vectorizer.fit(data.title[elements_in_same_group] + data.text[elements_in_same_group])\n",
    "        texts_vectorized_titles = vectorizer.transform(data.title[elements_in_same_group])\n",
    "        texts_vectorized_titles = scaler.fit_transform(texts_vectorized_titles)\n",
    "\n",
    "        texts_vectorized_texts = vectorizer.transform(data.text[elements_in_same_group])\n",
    "        texts_vectorized_texts = scaler.fit_transform(texts_vectorized_texts)\n",
    "\n",
    "        dist_matr = pairwise_distances(texts_vectorized_titles, texts_vectorized_titles, metric = 'cosine')\n",
    "        dist_matr2 = pairwise_distances(texts_vectorized_texts, texts_vectorized_texts, metric = 'cosine')\n",
    "        dist_matr3 = pairwise_distances(texts_vectorized_texts, texts_vectorized_titles, metric = 'cosine')\n",
    "\n",
    "        #clustering = DBSCAN(eps = 1.3, min_samples=5).fit(dist_matr)\n",
    "        #clf = IsolationForest(random_state=0).fit_predict(dist_matr)\n",
    "        #pca = TruncatedSVD(n_components=5)\n",
    "        #texts_vectorized_titles = pca.fit_transform(texts_vectorized_titles)\n",
    "        \n",
    "        X = TSNE(n_components=2).fit_transform(texts_vectorized_titles)\n",
    "        print(X.shape)\n",
    "        x_axis = X[:,0]\n",
    "        y_axis= X[:,1]\n",
    "        plt.scatter(x_axis, y_axis, c=data.target[elements_in_same_group])\n",
    "        plt.xlabel(\"x\")\n",
    "        plt.ylabel(\"y\")\n",
    "        plt.show()\n",
    "\n",
    "        pca = TruncatedSVD(n_components=5)\n",
    "        texts_vectorized_titles = pca.fit_transform(texts_vectorized_titles)\n",
    "        clf = LocalOutlierFactor(n_neighbors=20)\n",
    "    \n",
    "        labels = clf.fit_predict(texts_vectorized_titles)\n",
    "        #print(labels)\n",
    "        #print(target[elements_in_same_group])\n",
    "        dist_matr_sorted = np.sort(dist_matr,axis=1)[:,0:21]\n",
    "        dist_matr_sorted2 = np.sort(dist_matr2,axis=1)[:,0:21]\n",
    "        dist_matr_sorted3 = np.sort(dist_matr3,axis=1)[:,0:21]\n",
    "\n",
    "\n",
    "        mean_dist = dist_matr.mean(axis = 1)\n",
    "        dist_matr_sorted = np.hstack((dist_matr_sorted, mean_dist.reshape(-1,1)))\n",
    "        dist_matr_sorted = np.hstack((dist_matr_sorted, dist_matr_sorted2))\n",
    "        dist_matr_sorted = np.hstack((dist_matr_sorted, dist_matr_sorted3))\n",
    "        dist_matr_sorted = np.hstack((dist_matr_sorted, labels.reshape(-1,1)))\n",
    "    #   dist_matr_sorted = hstack((dist_matr_sorted, texts_vectorized))\n",
    "\n",
    "        if number == 2 :\n",
    "            features_by_dist =  dist_matr_sorted\n",
    "        else:\n",
    "            features_by_dist = vstack((features_by_dist, dist_matr_sorted))\n",
    "    return features_by_dist.tocsr()"
   ]
  },
  {
   "cell_type": "code",
   "execution_count": 59,
   "metadata": {
    "ExecuteTime": {
     "end_time": "2020-05-27T09:18:48.302032Z",
     "start_time": "2020-05-27T09:11:39.812561Z"
    }
   },
   "outputs": [
    {
     "data": {
      "application/vnd.jupyter.widget-view+json": {
       "model_id": "121813a66f6c4eff9a8be6ad7b0415a5",
       "version_major": 2,
       "version_minor": 0
      },
      "text/plain": [
       "HBox(children=(IntProgress(value=0, max=129), HTML(value='')))"
      ]
     },
     "metadata": {},
     "output_type": "display_data"
    },
    {
     "name": "stdout",
     "output_type": "stream",
     "text": [
      "(102, 22600)\n",
      "(102, 2)\n"
     ]
    },
    {
     "data": {
      "image/png": "[encoded data removed]",
      "text/plain": [
       "<Figure size 432x288 with 1 Axes>"
      ]
     },
     "metadata": {
      "needs_background": "light"
     },
     "output_type": "display_data"
    },
    {
     "name": "stdout",
     "output_type": "stream",
     "text": [
      "(94, 89146)\n",
      "(94, 2)\n"
     ]
    },
    {
     "data": {
      "image/png": "[encoded data removed]",
      "text/plain": [
       "<Figure size 432x288 with 1 Axes>"
      ]
     },
     "metadata": {
      "needs_background": "light"
     },
     "output_type": "display_data"
    },
    {
     "name": "stdout",
     "output_type": "stream",
     "text": [
      "(98, 172800)\n",
      "(98, 2)\n"
     ]
    },
    {
     "data": {
      "image/png": "[encoded data removed]",
      "text/plain": [
       "<Figure size 432x288 with 1 Axes>"
      ]
     },
     "metadata": {
      "needs_background": "light"
     },
     "output_type": "display_data"
    },
    {
     "name": "stdout",
     "output_type": "stream",
     "text": [
      "(88, 79248)\n",
      "(88, 2)\n"
     ]
    },
    {
     "data": {
      "image/png": "[encoded data removed]",
      "text/plain": [
       "<Figure size 432x288 with 1 Axes>"
      ]
     },
     "metadata": {
      "needs_background": "light"
     },
     "output_type": "display_data"
    },
    {
     "name": "stdout",
     "output_type": "stream",
     "text": [
      "(108, 66899)\n"
     ]
    },
    {
     "ename": "KeyboardInterrupt",
     "evalue": "",
     "output_type": "error",
     "traceback": [
      "\u001b[1;31m---------------------------------------------------------------------------\u001b[0m",
      "\u001b[1;31mKeyboardInterrupt\u001b[0m                         Traceback (most recent call last)",
      "\u001b[1;32m<ipython-input-59-625b2fddbb32>\u001b[0m in \u001b[0;36m<module>\u001b[1;34m\u001b[0m\n\u001b[0;32m      5\u001b[0m \u001b[1;32melse\u001b[0m\u001b[1;33m:\u001b[0m\u001b[1;33m\u001b[0m\u001b[1;33m\u001b[0m\u001b[0m\n\u001b[0;32m      6\u001b[0m     \u001b[0mtarget\u001b[0m \u001b[1;33m=\u001b[0m \u001b[0mtrain_data\u001b[0m\u001b[1;33m.\u001b[0m\u001b[0mtarget\u001b[0m\u001b[1;33m.\u001b[0m\u001b[0mvalues\u001b[0m\u001b[1;33m\u001b[0m\u001b[1;33m\u001b[0m\u001b[0m\n\u001b[1;32m----> 7\u001b[1;33m     \u001b[0mfeatures_by_dist\u001b[0m \u001b[1;33m=\u001b[0m \u001b[0mget_features\u001b[0m\u001b[1;33m(\u001b[0m\u001b[0mtrain_data\u001b[0m\u001b[1;33m)\u001b[0m\u001b[1;33m\u001b[0m\u001b[1;33m\u001b[0m\u001b[0m\n\u001b[0m\u001b[0;32m      8\u001b[0m     \u001b[0mfeatures_by_dist\u001b[0m \u001b[1;33m=\u001b[0m \u001b[0mhstack\u001b[0m\u001b[1;33m(\u001b[0m\u001b[1;33m[\u001b[0m\u001b[0mfeatures_by_dist\u001b[0m\u001b[1;33m,\u001b[0m \u001b[0mgroups_one_hot_train\u001b[0m\u001b[1;33m]\u001b[0m\u001b[1;33m)\u001b[0m\u001b[1;33m\u001b[0m\u001b[1;33m\u001b[0m\u001b[0m\n\u001b[0;32m      9\u001b[0m     \u001b[0mfeatures_by_dist\u001b[0m \u001b[1;33m=\u001b[0m \u001b[0mfeatures_by_dist\u001b[0m\u001b[1;33m.\u001b[0m\u001b[0mtocsr\u001b[0m\u001b[1;33m(\u001b[0m\u001b[1;33m)\u001b[0m\u001b[1;33m\u001b[0m\u001b[1;33m\u001b[0m\u001b[0m\n",
      "\u001b[1;32m<ipython-input-58-2a1d8b0dbbce>\u001b[0m in \u001b[0;36mget_features\u001b[1;34m(data)\u001b[0m\n\u001b[0;32m     33\u001b[0m         \u001b[0mdist_matr_sorted2\u001b[0m \u001b[1;33m=\u001b[0m \u001b[0mnp\u001b[0m\u001b[1;33m.\u001b[0m\u001b[0msort\u001b[0m\u001b[1;33m(\u001b[0m\u001b[0mdist_matr2\u001b[0m\u001b[1;33m,\u001b[0m\u001b[0maxis\u001b[0m\u001b[1;33m=\u001b[0m\u001b[1;36m1\u001b[0m\u001b[1;33m)\u001b[0m\u001b[1;33m[\u001b[0m\u001b[1;33m:\u001b[0m\u001b[1;33m,\u001b[0m\u001b[1;36m0\u001b[0m\u001b[1;33m:\u001b[0m\u001b[1;36m21\u001b[0m\u001b[1;33m]\u001b[0m\u001b[1;33m\u001b[0m\u001b[1;33m\u001b[0m\u001b[0m\n\u001b[0;32m     34\u001b[0m         \u001b[0mdist_matr_sorted3\u001b[0m \u001b[1;33m=\u001b[0m \u001b[0mnp\u001b[0m\u001b[1;33m.\u001b[0m\u001b[0msort\u001b[0m\u001b[1;33m(\u001b[0m\u001b[0mdist_matr3\u001b[0m\u001b[1;33m,\u001b[0m\u001b[0maxis\u001b[0m\u001b[1;33m=\u001b[0m\u001b[1;36m1\u001b[0m\u001b[1;33m)\u001b[0m\u001b[1;33m[\u001b[0m\u001b[1;33m:\u001b[0m\u001b[1;33m,\u001b[0m\u001b[1;36m0\u001b[0m\u001b[1;33m:\u001b[0m\u001b[1;36m21\u001b[0m\u001b[1;33m]\u001b[0m\u001b[1;33m\u001b[0m\u001b[1;33m\u001b[0m\u001b[0m\n\u001b[1;32m---> 35\u001b[1;33m         \u001b[0mX\u001b[0m \u001b[1;33m=\u001b[0m \u001b[0mTSNE\u001b[0m\u001b[1;33m(\u001b[0m\u001b[0mn_components\u001b[0m\u001b[1;33m=\u001b[0m\u001b[1;36m2\u001b[0m\u001b[1;33m)\u001b[0m\u001b[1;33m.\u001b[0m\u001b[0mfit_transform\u001b[0m\u001b[1;33m(\u001b[0m\u001b[0mdist_matr_sorted\u001b[0m\u001b[1;33m)\u001b[0m\u001b[1;33m\u001b[0m\u001b[1;33m\u001b[0m\u001b[0m\n\u001b[0m\u001b[0;32m     36\u001b[0m         \u001b[0mprint\u001b[0m\u001b[1;33m(\u001b[0m\u001b[0mX\u001b[0m\u001b[1;33m.\u001b[0m\u001b[0mshape\u001b[0m\u001b[1;33m)\u001b[0m\u001b[1;33m\u001b[0m\u001b[1;33m\u001b[0m\u001b[0m\n\u001b[0;32m     37\u001b[0m         \u001b[0mx_axis\u001b[0m \u001b[1;33m=\u001b[0m \u001b[0mX\u001b[0m\u001b[1;33m[\u001b[0m\u001b[1;33m:\u001b[0m\u001b[1;33m,\u001b[0m\u001b[1;36m0\u001b[0m\u001b[1;33m]\u001b[0m\u001b[1;33m\u001b[0m\u001b[1;33m\u001b[0m\u001b[0m\n",
      "\u001b[1;32m~\\Anaconda3\\lib\\site-packages\\sklearn\\manifold\\_t_sne.py\u001b[0m in \u001b[0;36mfit_transform\u001b[1;34m(self, X, y)\u001b[0m\n\u001b[0;32m    884\u001b[0m             \u001b[0mEmbedding\u001b[0m \u001b[0mof\u001b[0m \u001b[0mthe\u001b[0m \u001b[0mtraining\u001b[0m \u001b[0mdata\u001b[0m \u001b[1;32min\u001b[0m \u001b[0mlow\u001b[0m\u001b[1;33m-\u001b[0m\u001b[0mdimensional\u001b[0m \u001b[0mspace\u001b[0m\u001b[1;33m.\u001b[0m\u001b[1;33m\u001b[0m\u001b[1;33m\u001b[0m\u001b[0m\n\u001b[0;32m    885\u001b[0m         \"\"\"\n\u001b[1;32m--> 886\u001b[1;33m         \u001b[0membedding\u001b[0m \u001b[1;33m=\u001b[0m \u001b[0mself\u001b[0m\u001b[1;33m.\u001b[0m\u001b[0m_fit\u001b[0m\u001b[1;33m(\u001b[0m\u001b[0mX\u001b[0m\u001b[1;33m)\u001b[0m\u001b[1;33m\u001b[0m\u001b[1;33m\u001b[0m\u001b[0m\n\u001b[0m\u001b[0;32m    887\u001b[0m         \u001b[0mself\u001b[0m\u001b[1;33m.\u001b[0m\u001b[0membedding_\u001b[0m \u001b[1;33m=\u001b[0m \u001b[0membedding\u001b[0m\u001b[1;33m\u001b[0m\u001b[1;33m\u001b[0m\u001b[0m\n\u001b[0;32m    888\u001b[0m         \u001b[1;32mreturn\u001b[0m \u001b[0mself\u001b[0m\u001b[1;33m.\u001b[0m\u001b[0membedding_\u001b[0m\u001b[1;33m\u001b[0m\u001b[1;33m\u001b[0m\u001b[0m\n",
      "\u001b[1;32m~\\Anaconda3\\lib\\site-packages\\sklearn\\manifold\\_t_sne.py\u001b[0m in \u001b[0;36m_fit\u001b[1;34m(self, X, skip_num_points)\u001b[0m\n\u001b[0;32m    796\u001b[0m                           \u001b[0mX_embedded\u001b[0m\u001b[1;33m=\u001b[0m\u001b[0mX_embedded\u001b[0m\u001b[1;33m,\u001b[0m\u001b[1;33m\u001b[0m\u001b[1;33m\u001b[0m\u001b[0m\n\u001b[0;32m    797\u001b[0m                           \u001b[0mneighbors\u001b[0m\u001b[1;33m=\u001b[0m\u001b[0mneighbors_nn\u001b[0m\u001b[1;33m,\u001b[0m\u001b[1;33m\u001b[0m\u001b[1;33m\u001b[0m\u001b[0m\n\u001b[1;32m--> 798\u001b[1;33m                           skip_num_points=skip_num_points)\n\u001b[0m\u001b[0;32m    799\u001b[0m \u001b[1;33m\u001b[0m\u001b[0m\n\u001b[0;32m    800\u001b[0m     def _tsne(self, P, degrees_of_freedom, n_samples, X_embedded,\n",
      "\u001b[1;32m~\\Anaconda3\\lib\\site-packages\\sklearn\\manifold\\_t_sne.py\u001b[0m in \u001b[0;36m_tsne\u001b[1;34m(self, P, degrees_of_freedom, n_samples, X_embedded, neighbors, skip_num_points)\u001b[0m\n\u001b[0;32m    850\u001b[0m             \u001b[0mopt_args\u001b[0m\u001b[1;33m[\u001b[0m\u001b[1;34m'n_iter_without_progress'\u001b[0m\u001b[1;33m]\u001b[0m \u001b[1;33m=\u001b[0m \u001b[0mself\u001b[0m\u001b[1;33m.\u001b[0m\u001b[0mn_iter_without_progress\u001b[0m\u001b[1;33m\u001b[0m\u001b[1;33m\u001b[0m\u001b[0m\n\u001b[0;32m    851\u001b[0m             params, kl_divergence, it = _gradient_descent(obj_func, params,\n\u001b[1;32m--> 852\u001b[1;33m                                                           **opt_args)\n\u001b[0m\u001b[0;32m    853\u001b[0m \u001b[1;33m\u001b[0m\u001b[0m\n\u001b[0;32m    854\u001b[0m         \u001b[1;31m# Save the final number of iterations\u001b[0m\u001b[1;33m\u001b[0m\u001b[1;33m\u001b[0m\u001b[1;33m\u001b[0m\u001b[0m\n",
      "\u001b[1;32m~\\Anaconda3\\lib\\site-packages\\sklearn\\manifold\\_t_sne.py\u001b[0m in \u001b[0;36m_gradient_descent\u001b[1;34m(objective, p0, it, n_iter, n_iter_check, n_iter_without_progress, momentum, learning_rate, min_gain, min_grad_norm, verbose, args, kwargs)\u001b[0m\n\u001b[0;32m    356\u001b[0m         \u001b[0mkwargs\u001b[0m\u001b[1;33m[\u001b[0m\u001b[1;34m'compute_error'\u001b[0m\u001b[1;33m]\u001b[0m \u001b[1;33m=\u001b[0m \u001b[0mcheck_convergence\u001b[0m \u001b[1;32mor\u001b[0m \u001b[0mi\u001b[0m \u001b[1;33m==\u001b[0m \u001b[0mn_iter\u001b[0m \u001b[1;33m-\u001b[0m \u001b[1;36m1\u001b[0m\u001b[1;33m\u001b[0m\u001b[1;33m\u001b[0m\u001b[0m\n\u001b[0;32m    357\u001b[0m \u001b[1;33m\u001b[0m\u001b[0m\n\u001b[1;32m--> 358\u001b[1;33m         \u001b[0merror\u001b[0m\u001b[1;33m,\u001b[0m \u001b[0mgrad\u001b[0m \u001b[1;33m=\u001b[0m \u001b[0mobjective\u001b[0m\u001b[1;33m(\u001b[0m\u001b[0mp\u001b[0m\u001b[1;33m,\u001b[0m \u001b[1;33m*\u001b[0m\u001b[0margs\u001b[0m\u001b[1;33m,\u001b[0m \u001b[1;33m**\u001b[0m\u001b[0mkwargs\u001b[0m\u001b[1;33m)\u001b[0m\u001b[1;33m\u001b[0m\u001b[1;33m\u001b[0m\u001b[0m\n\u001b[0m\u001b[0;32m    359\u001b[0m         \u001b[0mgrad_norm\u001b[0m \u001b[1;33m=\u001b[0m \u001b[0mlinalg\u001b[0m\u001b[1;33m.\u001b[0m\u001b[0mnorm\u001b[0m\u001b[1;33m(\u001b[0m\u001b[0mgrad\u001b[0m\u001b[1;33m)\u001b[0m\u001b[1;33m\u001b[0m\u001b[1;33m\u001b[0m\u001b[0m\n\u001b[0;32m    360\u001b[0m \u001b[1;33m\u001b[0m\u001b[0m\n",
      "\u001b[1;32m~\\Anaconda3\\lib\\site-packages\\sklearn\\manifold\\_t_sne.py\u001b[0m in \u001b[0;36m_kl_divergence_bh\u001b[1;34m(params, P, degrees_of_freedom, n_samples, n_components, angle, skip_num_points, verbose, compute_error, num_threads)\u001b[0m\n\u001b[0;32m    251\u001b[0m     \u001b[0mX_embedded\u001b[0m \u001b[1;33m=\u001b[0m \u001b[0mparams\u001b[0m\u001b[1;33m.\u001b[0m\u001b[0mreshape\u001b[0m\u001b[1;33m(\u001b[0m\u001b[0mn_samples\u001b[0m\u001b[1;33m,\u001b[0m \u001b[0mn_components\u001b[0m\u001b[1;33m)\u001b[0m\u001b[1;33m\u001b[0m\u001b[1;33m\u001b[0m\u001b[0m\n\u001b[0;32m    252\u001b[0m \u001b[1;33m\u001b[0m\u001b[0m\n\u001b[1;32m--> 253\u001b[1;33m     \u001b[0mval_P\u001b[0m \u001b[1;33m=\u001b[0m \u001b[0mP\u001b[0m\u001b[1;33m.\u001b[0m\u001b[0mdata\u001b[0m\u001b[1;33m.\u001b[0m\u001b[0mastype\u001b[0m\u001b[1;33m(\u001b[0m\u001b[0mnp\u001b[0m\u001b[1;33m.\u001b[0m\u001b[0mfloat32\u001b[0m\u001b[1;33m,\u001b[0m \u001b[0mcopy\u001b[0m\u001b[1;33m=\u001b[0m\u001b[1;32mFalse\u001b[0m\u001b[1;33m)\u001b[0m\u001b[1;33m\u001b[0m\u001b[1;33m\u001b[0m\u001b[0m\n\u001b[0m\u001b[0;32m    254\u001b[0m     \u001b[0mneighbors\u001b[0m \u001b[1;33m=\u001b[0m \u001b[0mP\u001b[0m\u001b[1;33m.\u001b[0m\u001b[0mindices\u001b[0m\u001b[1;33m.\u001b[0m\u001b[0mastype\u001b[0m\u001b[1;33m(\u001b[0m\u001b[0mnp\u001b[0m\u001b[1;33m.\u001b[0m\u001b[0mint64\u001b[0m\u001b[1;33m,\u001b[0m \u001b[0mcopy\u001b[0m\u001b[1;33m=\u001b[0m\u001b[1;32mFalse\u001b[0m\u001b[1;33m)\u001b[0m\u001b[1;33m\u001b[0m\u001b[1;33m\u001b[0m\u001b[0m\n\u001b[0;32m    255\u001b[0m     \u001b[0mindptr\u001b[0m \u001b[1;33m=\u001b[0m \u001b[0mP\u001b[0m\u001b[1;33m.\u001b[0m\u001b[0mindptr\u001b[0m\u001b[1;33m.\u001b[0m\u001b[0mastype\u001b[0m\u001b[1;33m(\u001b[0m\u001b[0mnp\u001b[0m\u001b[1;33m.\u001b[0m\u001b[0mint64\u001b[0m\u001b[1;33m,\u001b[0m \u001b[0mcopy\u001b[0m\u001b[1;33m=\u001b[0m\u001b[1;32mFalse\u001b[0m\u001b[1;33m)\u001b[0m\u001b[1;33m\u001b[0m\u001b[1;33m\u001b[0m\u001b[0m\n",
      "\u001b[1;31mKeyboardInterrupt\u001b[0m: "
     ]
    }
   ],
   "source": [
    "if submit:\n",
    "    features_by_dist = get_features(test_data)\n",
    "    features_by_dist = hstack([features_by_dist, groups_one_hot_test])\n",
    "    features_by_dist = features_by_dist.tocsr()\n",
    "else:\n",
    "    target = train_data.target.values\n",
    "    features_by_dist = get_features(train_data)\n",
    "    features_by_dist = hstack([features_by_dist, groups_one_hot_train])\n",
    "    features_by_dist = features_by_dist.tocsr()"
   ]
  },
  {
   "cell_type": "code",
   "execution_count": 31,
   "metadata": {
    "ExecuteTime": {
     "end_time": "2020-05-27T09:27:06.832051Z",
     "start_time": "2020-05-27T09:25:30.264538Z"
    }
   },
   "outputs": [
    {
     "data": {
      "application/vnd.jupyter.widget-view+json": {
       "model_id": "2b4850253d0f4482846b8ce18b655134",
       "version_major": 2,
       "version_minor": 0
      },
      "text/plain": [
       "HBox(children=(IntProgress(value=0, max=5), HTML(value='')))"
      ]
     },
     "metadata": {},
     "output_type": "display_data"
    },
    {
     "name": "stdout",
     "output_type": "stream",
     "text": [
      "0.72648835202761 0.7259190321079573 0.7021387584767868 \n",
      "0.7000486144871172 0.7270363951473136 0.6895181321410829 \n",
      "0.7589869281045751 0.7252276379217996 0.6399609184171958 \n",
      "0.754225012071463 0.6958386958386958 0.696923852748361 \n",
      "0.6699595868881904 0.7190243902439023 0.7543284978942443 \n",
      "\n",
      "\n",
      "Avg score: 0.712374986967753\n"
     ]
    }
   ],
   "source": [
    "#VALIDATION\n",
    "max_score = 0\n",
    "scores = []\n",
    "for i in tqdm(range(5)):\n",
    "    for train, test in get_splits(train_data,n=3,random_state=i):\n",
    "        model = RandomForestClassifier(n_jobs=6,n_estimators=200)\n",
    "        model.fit(features_by_dist[train], target[train])\n",
    "        pred = (model.predict(features_by_dist[test]))               \n",
    "        score = f1_score(pred,target[test])\n",
    "        scores.append(score)\n",
    "        print(score, end=' ')\n",
    "    print()\n",
    "\n",
    "print('\\nAvg score:' ,sum(scores)/len(scores))"
   ]
  },
  {
   "cell_type": "code",
   "execution_count": 19,
   "metadata": {},
   "outputs": [
    {
     "data": {
      "text/plain": [
       "(0.7121791250258608, 0.201, 9)"
      ]
     },
     "execution_count": 19,
     "metadata": {},
     "output_type": "execute_result"
    }
   ],
   "source": [
    "max(res_scores) #20 estim"
   ]
  },
  {
   "cell_type": "code",
   "execution_count": 21,
   "metadata": {},
   "outputs": [
    {
     "name": "stdout",
     "output_type": "stream",
     "text": [
      "\n",
      "Avg score: 0.7150697373455935\n"
     ]
    }
   ],
   "source": [
    "#VALIDATION\n",
    "max_score = 0\n",
    "res_scores = []\n",
    "for learning_rate in [0.002]:\n",
    "    for max_depth in [9]:\n",
    "        scores = []\n",
    "        for i in range(5):\n",
    "            for train, test in get_splits(train_data,n=3,random_state=i):\n",
    "                #model = RandomForestClassifier(n_jobs=6,n_estimators=200)\n",
    "                #model = xgboost.XGBClassifier(n_estimators=200, n_jobs=-1)\n",
    "                model = GradientBoostingClassifier(n_estimators=2000, learning_rate=learning_rate, max_depth=max_depth)\n",
    "                model.fit(features_by_dist[train], target[train])\n",
    "                pred = (model.predict(features_by_dist[test]))               \n",
    "                score = f1_score(pred,target[test])\n",
    "                scores.append(score)\n",
    "            #print(score, end=' ')\n",
    "        #print()\n",
    "\n",
    "        print('\\nAvg score:' ,sum(scores)/len(scores))\n",
    "        res_scores.append((sum(scores)/len(scores), learning_rate, max_depth))"
   ]
  },
  {
   "cell_type": "code",
   "execution_count": null,
   "metadata": {},
   "outputs": [],
   "source": [
    "#SAVE model\n",
    "from sklearn.ensemble import RandomForestClassifier \n",
    "model = RandomForestClassifier(n_jobs=6,n_estimators=200)\n",
    "model.fit(features_by_dist, target)\n",
    "save_obj(model, 'model')"
   ]
  },
  {
   "cell_type": "code",
   "execution_count": null,
   "metadata": {
    "ExecuteTime": {
     "end_time": "2020-05-26T21:34:10.267423Z",
     "start_time": "2020-05-26T21:34:08.615849Z"
    }
   },
   "outputs": [],
   "source": [
    "#SUBMIT\n",
    "from sklearn.ensemble import RandomForestClassifier \n",
    "print(type(features_by_dist))\n",
    "model = load_obj('model') \n",
    "pred = (model.predict(features_by_dist)               \n",
    "pred.shape"
   ]
  },
  {
   "cell_type": "code",
   "execution_count": null,
   "metadata": {
    "ExecuteTime": {
     "end_time": "2020-05-26T21:34:16.126667Z",
     "start_time": "2020-05-26T21:34:16.120798Z"
    }
   },
   "outputs": [],
   "source": [
    "test_data['target'] = pred\n",
    "test_data.to_csv('sub',index=False,columns=['pair_id','target'])"
   ]
  }
 ],
 "metadata": {
  "anaconda-cloud": {},
  "kernelspec": {
   "display_name": "Python 3",
   "language": "python",
   "name": "python3"
  },
  "language_info": {
   "codemirror_mode": {
    "name": "ipython",
    "version": 3
   },
   "file_extension": ".py",
   "mimetype": "text/x-python",
   "name": "python",
   "nbconvert_exporter": "python",
   "pygments_lexer": "ipython3",
   "version": "3.6.10"
  },
  "nav_menu": {},
  "toc": {
   "colors": {
    "hover_highlight": "#DAA520",
    "navigate_num": "#000000",
    "navigate_text": "#333333",
    "running_highlight": "#FF0000",
    "selected_highlight": "#FFD700",
    "sidebar_border": "#EEEEEE",
    "wrapper_background": "#FFFFFF"
   },
   "moveMenuLeft": true,
   "nav_menu": {
    "height": "402px",
    "width": "253px"
   },
   "navigate_menu": true,
   "number_sections": false,
   "sideBar": true,
   "threshold": 4,
   "toc_cell": false,
   "toc_section_display": "block",
   "toc_window_display": true,
   "widenNotebook": false
  }
 },
 "nbformat": 4,
 "nbformat_minor": 2
}
