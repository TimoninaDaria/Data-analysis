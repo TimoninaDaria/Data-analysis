{
 "cells": [
  {
   "cell_type": "markdown",
   "metadata": {},
   "source": [
    "#Итоговый проект"
   ]
  },
  {
   "cell_type": "code",
   "execution_count": 70,
   "metadata": {
    "ExecuteTime": {
     "end_time": "2020-05-11T19:29:38.126103Z",
     "start_time": "2020-05-11T19:29:31.967784Z"
    }
   },
   "outputs": [],
   "source": [
    "import pandas as pd\n",
    "import numpy as np\n",
    "import matplotlib.pyplot as plt\n",
    "from tqdm.notebook import tqdm\n",
    "from os import listdir\n",
    "import codecs\n",
    "import pickle                                                                   \n",
    "from bs4 import BeautifulSoup as BS\n",
    "from sklearn.feature_extraction.text import CountVectorizer\n",
    "from sklearn.feature_extraction.text import TfidfVectorizer\n",
    "%matplotlib inline"
   ]
  },
  {
   "cell_type": "code",
   "execution_count": 5,
   "metadata": {
    "ExecuteTime": {
     "end_time": "2020-05-11T19:29:38.137013Z",
     "start_time": "2020-05-11T19:29:38.128693Z"
    }
   },
   "outputs": [],
   "source": [
    "def save_obj(obj, name ):                                                       \n",
    "    with open(name + '.pkl', 'wb') as f:                                        \n",
    "        pickle.dump(obj, f, pickle.HIGHEST_PROTOCOL)                            \n",
    "                                                                                \n",
    "def load_obj(name ):                                                            \n",
    "    with open(name + '.pkl', 'rb') as f:                                        \n",
    "        return pickle.load(f)       "
   ]
  },
  {
   "cell_type": "code",
   "execution_count": 11,
   "metadata": {
    "ExecuteTime": {
     "end_time": "2020-05-11T19:18:28.071794Z",
     "start_time": "2020-05-11T19:00:42.259000Z"
    },
    "scrolled": true
   },
   "outputs": [
    {
     "data": {
      "application/vnd.jupyter.widget-view+json": {
       "model_id": "cbd9a5c05ad74b99b2b643c7d54fba53",
       "version_major": 2,
       "version_minor": 0
      },
      "text/plain": [
       "HBox(children=(IntProgress(value=0, max=28026), HTML(value='')))"
      ]
     },
     "metadata": {},
     "output_type": "display_data"
    },
    {
     "name": "stdout",
     "output_type": "stream",
     "text": [
      "\n"
     ]
    }
   ],
   "source": [
    "path = 'content/'\n",
    "texts = {}\n",
    "for filename in tqdm(listdir(path)):\n",
    "    doc_id = int(filename.strip('.dat'))\n",
    "    if doc_id not in train_data.doc_id.values:\n",
    "        continue\n",
    "    with codecs.open(path + filename, 'r', 'utf-8') as f:\n",
    "        url = f.readline().strip()\n",
    "        html = f.read()\n",
    "        bs = BS(html, 'html.parser')#ищем след страницу\n",
    "        for s in bs.select('script'):\n",
    "            s.extract()\n",
    "        #title = bs.find_all('p')\n",
    "        #title = list(map(lambda x: x.get_text(), title))\n",
    "        #print(title)\n",
    "        s = bs.get_text()\n",
    "     #   s.translate(string.maketrans(\"\", \"\", ), bad_chars)\n",
    "        s=s.replace('\\n',\"\")\n",
    "        s=s.replace('\\t',\"\")\n",
    "        s=s.replace('\\r',\"\")\n",
    "        texts[doc_id] = s\n",
    "        #train_data.loc[train_data.doc_id == doc_id,'text'] = s\n",
    "#        train_df = train_df.append({'doc_id':int(filename.strip('.dat')),'text':s},ignore_index=True)\n",
    "#        print(bs.get_text())"
   ]
  },
  {
   "cell_type": "code",
   "execution_count": 12,
   "metadata": {
    "ExecuteTime": {
     "end_time": "2020-05-11T19:26:43.088420Z",
     "start_time": "2020-05-11T19:26:43.084189Z"
    }
   },
   "outputs": [
    {
     "data": {
      "text/plain": [
       "11648"
      ]
     },
     "execution_count": 12,
     "metadata": {},
     "output_type": "execute_result"
    }
   ],
   "source": [
    "save_obj(texts,'train_data_text')\n",
    "len(texts)"
   ]
  },
  {
   "cell_type": "code",
   "execution_count": 8,
   "metadata": {
    "ExecuteTime": {
     "end_time": "2020-05-11T19:29:38.359887Z",
     "start_time": "2020-05-11T19:29:38.146855Z"
    }
   },
   "outputs": [],
   "source": [
    "train_data = pd.read_csv('train_groups.csv',dtype=np.int16)"
   ]
  },
  {
   "cell_type": "code",
   "execution_count": 6,
   "metadata": {
    "ExecuteTime": {
     "end_time": "2020-05-11T19:29:53.520234Z",
     "start_time": "2020-05-11T19:29:38.365213Z"
    }
   },
   "outputs": [],
   "source": [
    "texts = load_obj('train_data_text')"
   ]
  },
  {
   "cell_type": "code",
   "execution_count": 9,
   "metadata": {
    "ExecuteTime": {
     "end_time": "2020-05-11T20:02:50.398186Z",
     "start_time": "2020-05-11T20:02:50.394247Z"
    }
   },
   "outputs": [],
   "source": [
    "train_data['text'] = ''"
   ]
  },
  {
   "cell_type": "code",
   "execution_count": 10,
   "metadata": {
    "ExecuteTime": {
     "end_time": "2020-05-11T20:03:16.360562Z",
     "start_time": "2020-05-11T20:03:16.023812Z"
    }
   },
   "outputs": [],
   "source": [
    "train_data['text'] = train_data.apply(lambda row: texts[row.doc_id], axis = 1)"
   ]
  },
  {
   "cell_type": "code",
   "execution_count": 11,
   "metadata": {
    "ExecuteTime": {
     "end_time": "2020-05-11T20:03:21.223430Z",
     "start_time": "2020-05-11T20:03:20.999567Z"
    }
   },
   "outputs": [
    {
     "data": {
      "text/html": [
       "<div>\n",
       "<style scoped>\n",
       "    .dataframe tbody tr th:only-of-type {\n",
       "        vertical-align: middle;\n",
       "    }\n",
       "\n",
       "    .dataframe tbody tr th {\n",
       "        vertical-align: top;\n",
       "    }\n",
       "\n",
       "    .dataframe thead th {\n",
       "        text-align: right;\n",
       "    }\n",
       "</style>\n",
       "<table border=\"1\" class=\"dataframe\">\n",
       "  <thead>\n",
       "    <tr style=\"text-align: right;\">\n",
       "      <th></th>\n",
       "      <th>pair_id</th>\n",
       "      <th>group_id</th>\n",
       "      <th>doc_id</th>\n",
       "      <th>target</th>\n",
       "      <th>text</th>\n",
       "    </tr>\n",
       "  </thead>\n",
       "  <tbody>\n",
       "    <tr>\n",
       "      <th>0</th>\n",
       "      <td>1</td>\n",
       "      <td>1</td>\n",
       "      <td>15731</td>\n",
       "      <td>0</td>\n",
       "      <td>ВАЗ 21213 | Замена подшипников ступицы | Нива ...</td>\n",
       "    </tr>\n",
       "    <tr>\n",
       "      <th>1</th>\n",
       "      <td>2</td>\n",
       "      <td>1</td>\n",
       "      <td>14829</td>\n",
       "      <td>0</td>\n",
       "      <td>Ваз 2107 оптом в Сочи. Сравнить цены, купить ...</td>\n",
       "    </tr>\n",
       "    <tr>\n",
       "      <th>2</th>\n",
       "      <td>3</td>\n",
       "      <td>1</td>\n",
       "      <td>15764</td>\n",
       "      <td>0</td>\n",
       "      <td>Купить ступица Лада калина2. Трансмиссия - пер...</td>\n",
       "    </tr>\n",
       "    <tr>\n",
       "      <th>3</th>\n",
       "      <td>4</td>\n",
       "      <td>1</td>\n",
       "      <td>17669</td>\n",
       "      <td>0</td>\n",
       "      <td>Классика 21010 - 21074ГЛАВНАЯПродукцияИнтернет...</td>\n",
       "    </tr>\n",
       "    <tr>\n",
       "      <th>4</th>\n",
       "      <td>5</td>\n",
       "      <td>1</td>\n",
       "      <td>14852</td>\n",
       "      <td>0</td>\n",
       "      <td>Ступица Нива — замена подшипника своими руками...</td>\n",
       "    </tr>\n",
       "    <tr>\n",
       "      <th>...</th>\n",
       "      <td>...</td>\n",
       "      <td>...</td>\n",
       "      <td>...</td>\n",
       "      <td>...</td>\n",
       "      <td>...</td>\n",
       "    </tr>\n",
       "    <tr>\n",
       "      <th>11685</th>\n",
       "      <td>11686</td>\n",
       "      <td>129</td>\n",
       "      <td>26672</td>\n",
       "      <td>0</td>\n",
       "      <td>❤★✿★АПРЕЛЯТА 2014 -6❤★✿   ...</td>\n",
       "    </tr>\n",
       "    <tr>\n",
       "      <th>11686</th>\n",
       "      <td>11687</td>\n",
       "      <td>129</td>\n",
       "      <td>25838</td>\n",
       "      <td>0</td>\n",
       "      <td>:: Gästebuch #blockStyle404Main64 {text-ali...</td>\n",
       "    </tr>\n",
       "    <tr>\n",
       "      <th>11687</th>\n",
       "      <td>11688</td>\n",
       "      <td>129</td>\n",
       "      <td>25703</td>\n",
       "      <td>0</td>\n",
       "      <td>Jizolofej: ArchiveJizolofejMonth Filter by pos...</td>\n",
       "    </tr>\n",
       "    <tr>\n",
       "      <th>11688</th>\n",
       "      <td>11689</td>\n",
       "      <td>129</td>\n",
       "      <td>27885</td>\n",
       "      <td>0</td>\n",
       "      <td>Как зовут парня дианы шурыгиной | Пусть говоря...</td>\n",
       "    </tr>\n",
       "    <tr>\n",
       "      <th>11689</th>\n",
       "      <td>11690</td>\n",
       "      <td>129</td>\n",
       "      <td>27987</td>\n",
       "      <td>0</td>\n",
       "      <td>Культура &amp; ШоуБиз:   Визит «Ревизорро» в Смоле...</td>\n",
       "    </tr>\n",
       "  </tbody>\n",
       "</table>\n",
       "<p>11690 rows × 5 columns</p>\n",
       "</div>"
      ],
      "text/plain": [
       "       pair_id  group_id  doc_id  target  \\\n",
       "0            1         1   15731       0   \n",
       "1            2         1   14829       0   \n",
       "2            3         1   15764       0   \n",
       "3            4         1   17669       0   \n",
       "4            5         1   14852       0   \n",
       "...        ...       ...     ...     ...   \n",
       "11685    11686       129   26672       0   \n",
       "11686    11687       129   25838       0   \n",
       "11687    11688       129   25703       0   \n",
       "11688    11689       129   27885       0   \n",
       "11689    11690       129   27987       0   \n",
       "\n",
       "                                                    text  \n",
       "0      ВАЗ 21213 | Замена подшипников ступицы | Нива ...  \n",
       "1       Ваз 2107 оптом в Сочи. Сравнить цены, купить ...  \n",
       "2      Купить ступица Лада калина2. Трансмиссия - пер...  \n",
       "3      Классика 21010 - 21074ГЛАВНАЯПродукцияИнтернет...  \n",
       "4      Ступица Нива — замена подшипника своими руками...  \n",
       "...                                                  ...  \n",
       "11685                      ❤★✿★АПРЕЛЯТА 2014 -6❤★✿   ...  \n",
       "11686     :: Gästebuch #blockStyle404Main64 {text-ali...  \n",
       "11687  Jizolofej: ArchiveJizolofejMonth Filter by pos...  \n",
       "11688  Как зовут парня дианы шурыгиной | Пусть говоря...  \n",
       "11689  Культура & ШоуБиз:   Визит «Ревизорро» в Смоле...  \n",
       "\n",
       "[11690 rows x 5 columns]"
      ]
     },
     "execution_count": 11,
     "metadata": {},
     "output_type": "execute_result"
    }
   ],
   "source": [
    "train_data"
   ]
  },
  {
   "cell_type": "code",
   "execution_count": 8,
   "metadata": {},
   "outputs": [
    {
     "data": {
      "text/plain": [
       "(11690, 5)"
      ]
     },
     "execution_count": 8,
     "metadata": {},
     "output_type": "execute_result"
    }
   ],
   "source": [
    "train_data.shape"
   ]
  },
  {
   "cell_type": "code",
   "execution_count": 9,
   "metadata": {
    "ExecuteTime": {
     "end_time": "2020-05-11T13:14:07.119232Z",
     "start_time": "2020-05-11T13:14:07.108654Z"
    }
   },
   "outputs": [
    {
     "data": {
      "text/html": [
       "<div>\n",
       "<style scoped>\n",
       "    .dataframe tbody tr th:only-of-type {\n",
       "        vertical-align: middle;\n",
       "    }\n",
       "\n",
       "    .dataframe tbody tr th {\n",
       "        vertical-align: top;\n",
       "    }\n",
       "\n",
       "    .dataframe thead th {\n",
       "        text-align: right;\n",
       "    }\n",
       "</style>\n",
       "<table border=\"1\" class=\"dataframe\">\n",
       "  <thead>\n",
       "    <tr style=\"text-align: right;\">\n",
       "      <th></th>\n",
       "      <th>pair_id</th>\n",
       "      <th>group_id</th>\n",
       "      <th>doc_id</th>\n",
       "      <th>target</th>\n",
       "      <th>text</th>\n",
       "    </tr>\n",
       "  </thead>\n",
       "  <tbody>\n",
       "    <tr>\n",
       "      <th>3936</th>\n",
       "      <td>3937</td>\n",
       "      <td>44</td>\n",
       "      <td>4062</td>\n",
       "      <td>1</td>\n",
       "      <td>/*** vBulletin 3.8.9 CSS* Style: 'О...</td>\n",
       "    </tr>\n",
       "  </tbody>\n",
       "</table>\n",
       "</div>"
      ],
      "text/plain": [
       "      pair_id  group_id  doc_id  target  \\\n",
       "3936     3937        44    4062       1   \n",
       "\n",
       "                                                   text  \n",
       "3936             /*** vBulletin 3.8.9 CSS* Style: 'О...  "
      ]
     },
     "execution_count": 9,
     "metadata": {},
     "output_type": "execute_result"
    }
   ],
   "source": [
    "train_data[train_data.doc_id==4062]"
   ]
  },
  {
   "cell_type": "code",
   "execution_count": 12,
   "metadata": {
    "ExecuteTime": {
     "end_time": "2020-05-11T11:46:40.987000Z",
     "start_time": "2020-05-11T11:44:12.747325Z"
    }
   },
   "outputs": [],
   "source": [
    "save_obj(train_data,'train_data')"
   ]
  },
  {
   "cell_type": "code",
   "execution_count": null,
   "metadata": {},
   "outputs": [],
   "source": [
    "#START HEAR"
   ]
  },
  {
   "cell_type": "code",
   "execution_count": null,
   "metadata": {
    "ExecuteTime": {
     "end_time": "2020-05-11T11:49:48.517599Z",
     "start_time": "2020-05-11T11:49:17.572786Z"
    }
   },
   "outputs": [],
   "source": [
    "train_data = load_obj('train_data')"
   ]
  },
  {
   "cell_type": "code",
   "execution_count": 13,
   "metadata": {
    "ExecuteTime": {
     "end_time": "2020-05-11T12:38:10.873800Z",
     "start_time": "2020-05-11T12:38:10.866064Z"
    }
   },
   "outputs": [],
   "source": [
    "def get_splits(data,n=3):\n",
    "    bound =[]\n",
    "    max_group = data.group_id.max()\n",
    "    bound.extend([i*int(max_group/n)+1 for i in range(1,n)])\n",
    "    bound.append(max_group+1)\n",
    "    prev_id = 1\n",
    "    for group_id in bound:\n",
    "        yield (data[~((prev_id <= data.group_id) & (data.group_id < group_id))].pair_id.values-1,\n",
    "            data[(prev_id <= data.group_id) & (data.group_id < group_id)].pair_id.values-1)\n",
    "        prev_id = group_id"
   ]
  },
  {
   "cell_type": "code",
   "execution_count": 11,
   "metadata": {},
   "outputs": [
    {
     "data": {
      "text/plain": [
       "0        ВАЗ 21213 | Замена подшипников ступицы | Нива ...\n",
       "1         Ваз 2107 оптом в Сочи. Сравнить цены, купить ...\n",
       "2        Купить ступица Лада калина2. Трансмиссия - пер...\n",
       "3        Классика 21010 - 21074ГЛАВНАЯПродукцияИнтернет...\n",
       "4        Ступица Нива — замена подшипника своими руками...\n",
       "                               ...                        \n",
       "11685                        ❤★✿★АПРЕЛЯТА 2014 -6❤★✿   ...\n",
       "11686       :: Gästebuch #blockStyle404Main64 {text-ali...\n",
       "11687    Jizolofej: ArchiveJizolofejMonth Filter by pos...\n",
       "11688    Как зовут парня дианы шурыгиной | Пусть говоря...\n",
       "11689    Культура & ШоуБиз:   Визит «Ревизорро» в Смоле...\n",
       "Name: text, Length: 11690, dtype: object"
      ]
     },
     "execution_count": 11,
     "metadata": {},
     "output_type": "execute_result"
    }
   ],
   "source": [
    "train_data.text"
   ]
  },
  {
   "cell_type": "code",
   "execution_count": 71,
   "metadata": {
    "ExecuteTime": {
     "end_time": "2020-05-11T07:57:22.826931Z",
     "start_time": "2020-05-11T07:55:21.495704Z"
    }
   },
   "outputs": [],
   "source": [
    "vectorizer = TfidfVectorizer(max_features = 1000000)\n",
    "texts_vectorized = vectorizer.fit_transform(train_data.text)"
   ]
  },
  {
   "cell_type": "code",
   "execution_count": 72,
   "metadata": {
    "ExecuteTime": {
     "end_time": "2020-05-11T07:57:22.833863Z",
     "start_time": "2020-05-11T07:57:22.829061Z"
    }
   },
   "outputs": [
    {
     "data": {
      "text/plain": [
       "(11690, 1000000)"
      ]
     },
     "execution_count": 72,
     "metadata": {},
     "output_type": "execute_result"
    }
   ],
   "source": [
    "texts_vectorized.shape"
   ]
  },
  {
   "cell_type": "code",
   "execution_count": 73,
   "metadata": {
    "ExecuteTime": {
     "end_time": "2020-05-11T12:38:13.123066Z",
     "start_time": "2020-05-11T12:38:13.095099Z"
    }
   },
   "outputs": [
    {
     "name": "stdout",
     "output_type": "stream",
     "text": [
      "11690\n",
      "11690\n",
      "11690\n"
     ]
    }
   ],
   "source": [
    "for train, test in get_splits(train_data, n=3):\n",
    "    print(len(train)+len(test))"
   ]
  },
  {
   "cell_type": "code",
   "execution_count": 74,
   "metadata": {},
   "outputs": [],
   "source": [
    "from sklearn.preprocessing import OneHotEncoder"
   ]
  },
  {
   "cell_type": "code",
   "execution_count": 75,
   "metadata": {},
   "outputs": [],
   "source": [
    "groups = OneHotEncoder().fit_transform(train_data.group_id.values.reshape(-1, 1))"
   ]
  },
  {
   "cell_type": "code",
   "execution_count": 19,
   "metadata": {},
   "outputs": [
    {
     "data": {
      "text/plain": [
       "(11690, 129)"
      ]
     },
     "execution_count": 19,
     "metadata": {},
     "output_type": "execute_result"
    }
   ],
   "source": [
    "groups.shape"
   ]
  },
  {
   "cell_type": "code",
   "execution_count": 52,
   "metadata": {},
   "outputs": [
    {
     "data": {
      "text/plain": [
       "<11690x10000 sparse matrix of type '<class 'numpy.int64'>'\n",
       "\twith 12065046 stored elements in Compressed Sparse Row format>"
      ]
     },
     "execution_count": 52,
     "metadata": {},
     "output_type": "execute_result"
    }
   ],
   "source": [
    "texts_vectorized"
   ]
  },
  {
   "cell_type": "code",
   "execution_count": 76,
   "metadata": {},
   "outputs": [],
   "source": [
    "from scipy.sparse import hstack"
   ]
  },
  {
   "cell_type": "code",
   "execution_count": 83,
   "metadata": {},
   "outputs": [],
   "source": [
    "features = hstack( [texts_vectorized,groups] )"
   ]
  },
  {
   "cell_type": "code",
   "execution_count": 81,
   "metadata": {},
   "outputs": [],
   "source": [
    "features"
   ]
  },
  {
   "cell_type": "code",
   "execution_count": 78,
   "metadata": {},
   "outputs": [],
   "source": [
    "target = train_data.target.values"
   ]
  },
  {
   "cell_type": "code",
   "execution_count": 79,
   "metadata": {},
   "outputs": [],
   "source": [
    "doc_id = train_data.doc_id.values"
   ]
  },
  {
   "cell_type": "code",
   "execution_count": null,
   "metadata": {},
   "outputs": [
    {
     "name": "stdout",
     "output_type": "stream",
     "text": [
      "<class 'scipy.sparse.coo.coo_matrix'>\n",
      "<class 'scipy.sparse.coo.coo_matrix'>\n",
      "<class 'scipy.sparse.coo.coo_matrix'>\n",
      "0.4354277501688501\n",
      "<class 'scipy.sparse.coo.coo_matrix'>\n"
     ]
    }
   ],
   "source": [
    "from sklearn.metrics import f1_score\n",
    "from sklearn.linear_model import LogisticRegression\n",
    "from sklearn.tree import DecisionTreeClassifier\n",
    "max_score = 0\n",
    "for max_depth in range(5,50):\n",
    "    scores = []\n",
    "    for train, test in get_splits(train_data,n=3):\n",
    "                print(type(features))\n",
    "                model = DecisionTreeClassifier(max_depth=None)\n",
    "                model.fit(features.tocsr()[train], target[train])\n",
    "                pred = model.predict(features.tocsr()[test])                \n",
    "                #new_pred = np.where(pred < tresh, 0, 1)\n",
    "                scores.append(f1_score(pred,target[test]))\n",
    "    print(sum(scores)/3)\n",
    "    if sum(scores)/3 > max_score: \n",
    "        max_score = sum(scores)/3\n",
    "        max_depth_best = max_depth\n",
    "                "
   ]
  },
  {
   "cell_type": "code",
   "execution_count": null,
   "metadata": {},
   "outputs": [],
   "source": []
  }
 ],
 "metadata": {
  "anaconda-cloud": {},
  "kernelspec": {
   "display_name": "Python 3",
   "language": "python",
   "name": "python3"
  },
  "language_info": {
   "codemirror_mode": {
    "name": "ipython",
    "version": 3
   },
   "file_extension": ".py",
   "mimetype": "text/x-python",
   "name": "python",
   "nbconvert_exporter": "python",
   "pygments_lexer": "ipython3",
   "version": "3.6.10"
  },
  "nav_menu": {},
  "toc": {
   "colors": {
    "hover_highlight": "#DAA520",
    "navigate_num": "#000000",
    "navigate_text": "#333333",
    "running_highlight": "#FF0000",
    "selected_highlight": "#FFD700",
    "sidebar_border": "#EEEEEE",
    "wrapper_background": "#FFFFFF"
   },
   "moveMenuLeft": true,
   "nav_menu": {
    "height": "402px",
    "width": "253px"
   },
   "navigate_menu": true,
   "number_sections": false,
   "sideBar": true,
   "threshold": 4,
   "toc_cell": false,
   "toc_section_display": "block",
   "toc_window_display": true,
   "widenNotebook": false
  }
 },
 "nbformat": 4,
 "nbformat_minor": 2
}
